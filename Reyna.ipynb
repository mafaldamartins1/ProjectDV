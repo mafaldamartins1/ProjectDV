{
 "cells": [
  {
   "attachments": {},
   "cell_type": "markdown",
   "metadata": {},
   "source": [
    "## Import"
   ]
  },
  {
   "cell_type": "code",
   "execution_count": 13,
   "metadata": {},
   "outputs": [],
   "source": [
    "import dash\n",
    "from dash import dcc\n",
    "from dash import html\n",
    "import plotly.express as px\n",
    "import pandas as pd\n",
    "from dash.dependencies import Input, Output"
   ]
  },
  {
   "cell_type": "code",
   "execution_count": 4,
   "metadata": {},
   "outputs": [],
   "source": [
    "### DATA IMPORTING AND TREATMENT\n",
    "\n",
    "# Specify the path to CSV file\n",
    "file_path = 'https://raw.githubusercontent.com/mafaldamartins1/ProjectDV/main/dataset_US_executions.csv'\n",
    "\n",
    "# Read the CSV file into a pandas dataframe\n",
    "df = pd.read_csv(file_path)\n",
    "\n",
    "# Remove space in the beginning of ' Male' from the 'Sex' column\n",
    "df['Sex'] = df['Sex'].replace(' Male','Male')\n",
    "\n",
    "# Join 'no' values with 'No' in the 'Foreign National' column\n",
    "df['Foreign National'] = df['Foreign National'].replace('no','No')\n",
    "\n",
    "# Change the type of the 'Execution Date' column to Date\n",
    "df['Execution Date'] = pd.to_datetime(df['Execution Date'])\n",
    "df['Execution Year'], df['Execution Month'] = df['Execution Date'].dt.year, df['Execution Date'].dt.month\n",
    "\n",
    "# Join both 'White' values of column 'Race' together\n",
    "df.loc[df['Race'].str.startswith('White'), 'Race'] = 'White'\n",
    "\n",
    "# Join both 'South' values of column 'Region' together\n",
    "df.loc[df['Region'].str.startswith('South'), 'Region'] = 'South'\n",
    "\n",
    "# Remove space in the end of 'Oklahoma ' from the 'State' column\n",
    "df['State'] = df['State'].replace('Oklahoma ','Oklahoma')\n",
    "\n",
    "# Join 'Multiple' and 'Multiple (including White)' in the 'Victim(s) Race(s)' column\n",
    "df['Victim(s) Race(s)'] = df['Victim(s) Race(s)'].replace('Multiple (including White)','Multiple')\n",
    "\n",
    "# Remove columns with missing values - 'Middle Name(s)' and 'Suffix'\n",
    "df.drop(columns=[\"Middle Name(s)\", \"Suffix\"])\n",
    "\n",
    "# Create new columns for the number of victims per race\n",
    "df['Number of White Victims'] = df['Number of White Male Victims'] + df['Number of White Female Victims']\n",
    "df['Number of Black Victims'] = df['Number of Black Male Victims'] + df['Number of Black Female Victims']\n",
    "df['Number of Latino Victims'] = df['Number of Latino Male Victims'] + df['Number of Latino Female Victims']\n",
    "df['Number of Asian Victims'] = df['Number of Asian Male Victims'] + df['Number of Asian Female Victims']\n",
    "df['Number of Native American Victims'] = df['Number of Native American Male Victims'] + df['Number of American Indian or Alaska Native Female Victims']\n",
    "df['Number of Other Race Victims'] = df['Number of Other Race Male Victims'] + df['Number of Other Race Female Victims']\n",
    "\n",
    "# drop das outras?\n",
    "\n",
    "state_codes = {\n",
    "    'Alabama': 'AL',\n",
    "    'Alaska': 'AK',\n",
    "    'Arizona': 'AZ',\n",
    "    'Arkansas': 'AR',\n",
    "    'California': 'CA',\n",
    "    'Colorado': 'CO',\n",
    "    'Connecticut': 'CT',\n",
    "    'Delaware': 'DE',\n",
    "    'Florida': 'FL',\n",
    "    'Georgia': 'GA',\n",
    "    'Hawaii': 'HI',\n",
    "    'Idaho': 'ID',\n",
    "    'Illinois': 'IL',\n",
    "    'Indiana': 'IN',\n",
    "    'Iowa': 'IA',\n",
    "    'Kansas': 'KS',\n",
    "    'Kentucky': 'KY',\n",
    "    'Louisiana': 'LA',\n",
    "    'Maine': 'ME',\n",
    "    'Maryland': 'MD',\n",
    "    'Massachusetts': 'MA',\n",
    "    'Michigan': 'MI',\n",
    "    'Minnesota': 'MN',\n",
    "    'Mississippi': 'MS',\n",
    "    'Missouri': 'MO',\n",
    "    'Montana': 'MT',\n",
    "    'Nebraska': 'NE',\n",
    "    'Nevada': 'NV',\n",
    "    'New Hampshire': 'NH',\n",
    "    'New Jersey': 'NJ',\n",
    "    'New Mexico': 'NM',\n",
    "    'New York': 'NY',\n",
    "    'North Carolina': 'NC',\n",
    "    'North Dakota': 'ND',\n",
    "    'Ohio': 'OH',\n",
    "    'Oklahoma': 'OK',\n",
    "    'Oregon': 'OR',\n",
    "    'Pennsylvania': 'PA',\n",
    "    'Rhode Island': 'RI',\n",
    "    'South Carolina': 'SC',\n",
    "    'South Dakota': 'SD',\n",
    "    'Tennessee': 'TN',\n",
    "    'Texas': 'TX',\n",
    "    'Utah': 'UT',\n",
    "    'Vermont': 'VT',\n",
    "    'Virginia': 'VA',\n",
    "    'Washington': 'WA',\n",
    "    'West Virginia': 'WV',\n",
    "    'Wisconsin': 'WI',\n",
    "    'Wyoming': 'WY'\n",
    "}\n",
    "\n",
    "# Create a new column in your dataframe that maps state names to state codes\n",
    "df['State Code'] = df['State'].map(state_codes)\n",
    "\n",
    "# print(df.columns)"
   ]
  },
  {
   "cell_type": "code",
   "execution_count": 5,
   "metadata": {},
   "outputs": [],
   "source": [
    "df['ID'] = range(1, len(df.index)+1)"
   ]
  },
  {
   "attachments": {},
   "cell_type": "markdown",
   "metadata": {},
   "source": [
    "# CLASS IMPLEMENTATION"
   ]
  },
  {
   "cell_type": "code",
   "execution_count": null,
   "metadata": {},
   "outputs": [],
   "source": [
    "import dash\n",
    "from dash import dcc\n",
    "from dash import html\n",
    "import plotly.graph_objects as go\n",
    "import pandas as pd\n",
    "import numpy as np\n",
    "\n",
    "# Dataset 'Processing'\n",
    "\n",
    "df_emissions = pd.read_csv('emission_full.csv')\n",
    "\n",
    "df_emission_0 = df_emissions.loc[df_emissions['year']==2000]\n",
    "\n",
    "# Building our Graphs (nothing new here)\n",
    "\n",
    "data_choropleth = dict(type='choropleth',\n",
    "                       locations=df_emission_0['country_name'],  #There are three ways to 'merge' your data with the data pre embedded in the map\n",
    "                       locationmode='country names',\n",
    "                       z=np.log(df_emission_0['CO2_emissions']),\n",
    "                       text=df_emission_0['country_name'],\n",
    "                       colorscale='inferno',\n",
    "                       colorbar=dict(title='CO2 Emissions log scaled')\n",
    "                      )\n",
    "\n",
    "layout_choropleth = dict(geo=dict(scope='world',  #default\n",
    "                                  projection=dict(type='orthographic'\n",
    "                                                 ),\n",
    "                                  #showland=True,   # default = True\n",
    "                                  landcolor='black',\n",
    "                                  lakecolor='white',\n",
    "                                  showocean=True,   # default = False\n",
    "                                  oceancolor='azure'\n",
    "                                 ),\n",
    "                         \n",
    "                         title=dict(text='World Choropleth Map',\n",
    "                                    x=.5 # Title relative position according to the xaxis, range (0,1)\n",
    "                                   )\n",
    "                        )\n",
    "\n",
    "fig = go.Figure(data=data_choropleth, layout=layout_choropleth)\n",
    "\n",
    "\n",
    "\n",
    "# The App itself\n",
    "\n",
    "app = dash.Dash(__name__)\n",
    "\n",
    "server = app.server\n",
    "\n",
    "\n",
    "\n",
    "\n",
    "app.layout = html.Div(children=[\n",
    "    html.H1(children='My First DashBoard'),\n",
    "\n",
    "    html.Div(children='''\n",
    "        Example of html Container\n",
    "    '''),\n",
    "\n",
    "    dcc.Graph(\n",
    "        id='example-graph',\n",
    "        figure=fig\n",
    "    )\n",
    "])\n",
    "\n",
    "\n",
    "\n",
    "\n",
    "if __name__ == '__main__':\n",
    "    app.run_server(debug=True)\n"
   ]
  },
  {
   "attachments": {},
   "cell_type": "markdown",
   "metadata": {},
   "source": [
    "# Visualization"
   ]
  },
  {
   "cell_type": "code",
   "execution_count": null,
   "metadata": {},
   "outputs": [],
   "source": [
    "fig = go.Figure(data=[\n",
    "    go.Bar(name='race', x=df[\"Race\"], y=df['ID'])#,\n",
    "    #go.Bar(name='Expenses', x=df['Year'], y=df['Expenses'])\n",
    "])\n",
    "\n",
    "# Update the layout to include a stacked barmode\n",
    "#fig.update_layout(barmode='stack', title='Sales and Expenses by Year')"
   ]
  },
  {
   "cell_type": "code",
   "execution_count": 29,
   "metadata": {},
   "outputs": [],
   "source": [
    "app = dash.Dash(__name__)\n",
    "server = app.server"
   ]
  },
  {
   "cell_type": "code",
   "execution_count": 30,
   "metadata": {},
   "outputs": [],
   "source": [
    "app.layout = html.Div(children=[\n",
    "    html.H1(children='My First DashBoard'),\n",
    "\n",
    "    html.Div(children='''\n",
    "        Example of html Container\n",
    "    '''),\n",
    "\n",
    "    dcc.Graph(\n",
    "        id='example-graph',\n",
    "        figure=fig\n",
    "    )\n",
    "])"
   ]
  },
  {
   "cell_type": "code",
   "execution_count": 31,
   "metadata": {},
   "outputs": [
    {
     "name": "stdout",
     "output_type": "stream",
     "text": [
      "Dash is running on http://127.0.0.1:8050/\n",
      "\n",
      " * Serving Flask app \"__main__\" (lazy loading)\n",
      " * Environment: production\n",
      "\u001b[31m   WARNING: This is a development server. Do not use it in a production deployment.\u001b[0m\n",
      "\u001b[2m   Use a production WSGI server instead.\u001b[0m\n",
      " * Debug mode: on\n"
     ]
    },
    {
     "ename": "OSError",
     "evalue": "[Errno 48] Address already in use",
     "output_type": "error",
     "traceback": [
      "\u001b[0;31m---------------------------------------------------------------------------\u001b[0m",
      "\u001b[0;31mOSError\u001b[0m                                   Traceback (most recent call last)",
      "Cell \u001b[0;32mIn[31], line 2\u001b[0m\n\u001b[1;32m      1\u001b[0m \u001b[39mif\u001b[39;00m \u001b[39m__name__\u001b[39m \u001b[39m==\u001b[39m \u001b[39m'\u001b[39m\u001b[39m__main__\u001b[39m\u001b[39m'\u001b[39m:\n\u001b[0;32m----> 2\u001b[0m     app\u001b[39m.\u001b[39;49mrun_server(debug\u001b[39m=\u001b[39;49m\u001b[39mTrue\u001b[39;49;00m)\n",
      "File \u001b[0;32m/opt/anaconda3/lib/python3.8/site-packages/dash/dash.py:2129\u001b[0m, in \u001b[0;36mDash.run_server\u001b[0;34m(self, *args, **kwargs)\u001b[0m\n\u001b[1;32m   2123\u001b[0m \u001b[39mdef\u001b[39;00m \u001b[39mrun_server\u001b[39m(\u001b[39mself\u001b[39m, \u001b[39m*\u001b[39margs, \u001b[39m*\u001b[39m\u001b[39m*\u001b[39mkwargs):\n\u001b[1;32m   2124\u001b[0m     \u001b[39m\"\"\"`run_server` is a deprecated alias of `run` and may be removed in a\u001b[39;00m\n\u001b[1;32m   2125\u001b[0m \u001b[39m    future version. We recommend using `app.run` instead.\u001b[39;00m\n\u001b[1;32m   2126\u001b[0m \n\u001b[1;32m   2127\u001b[0m \u001b[39m    See `app.run` for usage information.\u001b[39;00m\n\u001b[1;32m   2128\u001b[0m \u001b[39m    \"\"\"\u001b[39;00m\n\u001b[0;32m-> 2129\u001b[0m     \u001b[39mself\u001b[39;49m\u001b[39m.\u001b[39;49mrun(\u001b[39m*\u001b[39;49margs, \u001b[39m*\u001b[39;49m\u001b[39m*\u001b[39;49mkwargs)\n",
      "File \u001b[0;32m/opt/anaconda3/lib/python3.8/site-packages/dash/dash.py:1989\u001b[0m, in \u001b[0;36mDash.run\u001b[0;34m(self, host, port, proxy, debug, dev_tools_ui, dev_tools_props_check, dev_tools_serve_dev_bundles, dev_tools_hot_reload, dev_tools_hot_reload_interval, dev_tools_hot_reload_watch_interval, dev_tools_hot_reload_max_retry, dev_tools_silence_routes_logging, dev_tools_prune_errors, **flask_run_options)\u001b[0m\n\u001b[1;32m   1986\u001b[0m         \u001b[39melif\u001b[39;00m os\u001b[39m.\u001b[39mpath\u001b[39m.\u001b[39misfile(path):\n\u001b[1;32m   1987\u001b[0m             extra_files\u001b[39m.\u001b[39mappend(path)\n\u001b[0;32m-> 1989\u001b[0m \u001b[39mself\u001b[39;49m\u001b[39m.\u001b[39;49mserver\u001b[39m.\u001b[39;49mrun(host\u001b[39m=\u001b[39;49mhost, port\u001b[39m=\u001b[39;49mport, debug\u001b[39m=\u001b[39;49mdebug, \u001b[39m*\u001b[39;49m\u001b[39m*\u001b[39;49mflask_run_options)\n",
      "File \u001b[0;32m/opt/anaconda3/lib/python3.8/site-packages/flask/app.py:990\u001b[0m, in \u001b[0;36mFlask.run\u001b[0;34m(self, host, port, debug, load_dotenv, **options)\u001b[0m\n\u001b[1;32m    987\u001b[0m \u001b[39mfrom\u001b[39;00m \u001b[39mwerkzeug\u001b[39;00m\u001b[39m.\u001b[39;00m\u001b[39mserving\u001b[39;00m \u001b[39mimport\u001b[39;00m run_simple\n\u001b[1;32m    989\u001b[0m \u001b[39mtry\u001b[39;00m:\n\u001b[0;32m--> 990\u001b[0m     run_simple(host, port, \u001b[39mself\u001b[39;49m, \u001b[39m*\u001b[39;49m\u001b[39m*\u001b[39;49moptions)\n\u001b[1;32m    991\u001b[0m \u001b[39mfinally\u001b[39;00m:\n\u001b[1;32m    992\u001b[0m     \u001b[39m# reset the first request information if the development server\u001b[39;00m\n\u001b[1;32m    993\u001b[0m     \u001b[39m# reset normally.  This makes it possible to restart the server\u001b[39;00m\n\u001b[1;32m    994\u001b[0m     \u001b[39m# without reloader and that stuff from an interactive shell.\u001b[39;00m\n\u001b[1;32m    995\u001b[0m     \u001b[39mself\u001b[39m\u001b[39m.\u001b[39m_got_first_request \u001b[39m=\u001b[39m \u001b[39mFalse\u001b[39;00m\n",
      "File \u001b[0;32m/opt/anaconda3/lib/python3.8/site-packages/werkzeug/serving.py:1030\u001b[0m, in \u001b[0;36mrun_simple\u001b[0;34m(hostname, port, application, use_reloader, use_debugger, use_evalex, extra_files, reloader_interval, reloader_type, threaded, processes, request_handler, static_files, passthrough_errors, ssl_context)\u001b[0m\n\u001b[1;32m   1028\u001b[0m s \u001b[39m=\u001b[39m socket\u001b[39m.\u001b[39msocket(address_family, socket\u001b[39m.\u001b[39mSOCK_STREAM)\n\u001b[1;32m   1029\u001b[0m s\u001b[39m.\u001b[39msetsockopt(socket\u001b[39m.\u001b[39mSOL_SOCKET, socket\u001b[39m.\u001b[39mSO_REUSEADDR, \u001b[39m1\u001b[39m)\n\u001b[0;32m-> 1030\u001b[0m s\u001b[39m.\u001b[39;49mbind(server_address)\n\u001b[1;32m   1031\u001b[0m \u001b[39mif\u001b[39;00m \u001b[39mhasattr\u001b[39m(s, \u001b[39m\"\u001b[39m\u001b[39mset_inheritable\u001b[39m\u001b[39m\"\u001b[39m):\n\u001b[1;32m   1032\u001b[0m     s\u001b[39m.\u001b[39mset_inheritable(\u001b[39mTrue\u001b[39;00m)\n",
      "\u001b[0;31mOSError\u001b[0m: [Errno 48] Address already in use"
     ]
    }
   ],
   "source": [
    "if __name__ == '__main__':\n",
    "    app.run_server(debug=True)"
   ]
  },
  {
   "cell_type": "code",
   "execution_count": 28,
   "metadata": {},
   "outputs": [],
   "source": [
    "fig = go.Figure(data=[\n",
    "    go.Bar(name='race', x=df[\"Race\"], y=df['ID'])#,\n",
    "    #go.Bar(name='Expenses', x=df['Year'], y=df['Expenses'])\n",
    "])\n",
    "\n",
    "# Update the layout to include a stacked barmode\n",
    "#fig.update_layout(barmode='stack', title='Sales and Expenses by Year')"
   ]
  },
  {
   "cell_type": "code",
   "execution_count": null,
   "metadata": {},
   "outputs": [],
   "source": []
  }
 ],
 "metadata": {
  "kernelspec": {
   "display_name": "base",
   "language": "python",
   "name": "python3"
  },
  "language_info": {
   "codemirror_mode": {
    "name": "ipython",
    "version": 3
   },
   "file_extension": ".py",
   "mimetype": "text/x-python",
   "name": "python",
   "nbconvert_exporter": "python",
   "pygments_lexer": "ipython3",
   "version": "3.8.8"
  },
  "orig_nbformat": 4
 },
 "nbformat": 4,
 "nbformat_minor": 2
}
